{
 "cells": [
  {
   "cell_type": "markdown",
   "metadata": {},
   "source": [
    "## Serving"
   ]
  },
  {
   "cell_type": "code",
   "execution_count": 2,
   "metadata": {},
   "outputs": [],
   "source": [
    "# First code block - Import necessary libraries and set up OpenAI client\n",
    "import openai\n",
    "import os\n",
    "from typing import Dict, List\n",
    "from datetime import datetime\n",
    "\n",
    "# Set your OpenAI API key\n",
    "os.environ['OPENAI_API_KEY'] = \n",
    "client = openai.OpenAI()\n",
    "\n",
    "# Define the model ID\n",
    "FINE_TUNED_MODEL = \"ft:gpt-4o-mini-2024-07-18:personal::Af1GA1or\""
   ]
  },
  {
   "cell_type": "code",
   "execution_count": 5,
   "metadata": {},
   "outputs": [
    {
     "name": "stdout",
     "output_type": "stream",
     "text": [
      "Requirement already satisfied: python-dotenv in /Users/jccl/opt/anaconda3/lib/python3.9/site-packages (0.21.0)\n",
      "Note: you may need to restart the kernel to use updated packages.\n"
     ]
    }
   ],
   "source": [
    "%pip install python-dotenv"
   ]
  },
  {
   "cell_type": "code",
   "execution_count": 3,
   "metadata": {},
   "outputs": [],
   "source": [
    "class PokerStrategyService:\n",
    "    def __init__(self, \n",
    "                 model_id: str = \"ft:gpt-4o-mini-2024-07-18:personal::Af1GA1or\",\n",
    "                 system_prompt: str = \"You are an expert poker strategist.\"):\n",
    "        \"\"\"\n",
    "        Initialize the Poker Strategy Service\n",
    "        \n",
    "        Args:\n",
    "            model_id (str): The ID of the fine-tuned model\n",
    "            system_prompt (str): The system prompt to use for all queries\n",
    "        \"\"\"\n",
    "        self.model_id = model_id\n",
    "        self.system_prompt = system_prompt\n",
    "        self.client = openai.OpenAI()\n",
    "        \n",
    "    def get_strategy_advice(self, \n",
    "                          query: str, \n",
    "                          temperature: float = 0.7,\n",
    "                          max_retries: int = 3) -> Dict:\n",
    "        \"\"\"\n",
    "        Get poker strategy advice using the fine-tuned model\n",
    "        \n",
    "        Args:\n",
    "            query (str): The poker situation or question\n",
    "            temperature (float): Controls randomness (0.0 to 1.0)\n",
    "            max_retries (int): Maximum number of retry attempts\n",
    "            \n",
    "        Returns:\n",
    "            Dict: Response containing model's advice and metadata\n",
    "        \"\"\"\n",
    "        retry_count = 0\n",
    "        while retry_count < max_retries:\n",
    "            try:\n",
    "                start_time = datetime.now()\n",
    "                response = self.client.chat.completions.create(\n",
    "                    model=self.model_id,\n",
    "                    messages=[\n",
    "                        {\"role\": \"system\", \"content\": self.system_prompt},\n",
    "                        {\"role\": \"user\", \"content\": query}\n",
    "                    ],\n",
    "                    temperature=temperature\n",
    "                )\n",
    "                \n",
    "                elapsed_time = (datetime.now() - start_time).total_seconds()\n",
    "                \n",
    "                return {\n",
    "                    \"status\": \"success\",\n",
    "                    \"response\": response.choices[0].message.content,\n",
    "                    \"model\": self.model_id,\n",
    "                    \"latency\": elapsed_time,\n",
    "                    \"tokens\": {\n",
    "                        \"prompt_tokens\": response.usage.prompt_tokens,\n",
    "                        \"completion_tokens\": response.usage.completion_tokens,\n",
    "                        \"total_tokens\": response.usage.total_tokens\n",
    "                    }\n",
    "                }\n",
    "                \n",
    "            except Exception as e:\n",
    "                retry_count += 1\n",
    "                if retry_count == max_retries:\n",
    "                    return {\n",
    "                        \"status\": \"error\",\n",
    "                        \"error\": str(e),\n",
    "                        \"model\": self.model_id\n",
    "                    }\n",
    "                continue\n",
    "    \n",
    "    def batch_process(self, queries: List[str], \n",
    "                     temperature: float = 0.7) -> List[Dict]:\n",
    "        \"\"\"\n",
    "        Process multiple queries in batch\n",
    "        \n",
    "        Args:\n",
    "            queries (List[str]): List of poker queries\n",
    "            temperature (float): Temperature setting for responses\n",
    "            \n",
    "        Returns:\n",
    "            List[Dict]: List of responses for each query\n",
    "        \"\"\"\n",
    "        return [self.get_strategy_advice(query, temperature) for query in queries]\n"
   ]
  },
  {
   "cell_type": "code",
   "execution_count": null,
   "metadata": {},
   "outputs": [],
   "source": []
  }
 ],
 "metadata": {
  "kernelspec": {
   "display_name": "base",
   "language": "python",
   "name": "python3"
  },
  "language_info": {
   "codemirror_mode": {
    "name": "ipython",
    "version": 3
   },
   "file_extension": ".py",
   "mimetype": "text/x-python",
   "name": "python",
   "nbconvert_exporter": "python",
   "pygments_lexer": "ipython3",
   "version": "3.9.18"
  }
 },
 "nbformat": 4,
 "nbformat_minor": 2
}
